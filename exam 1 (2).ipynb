{
 "cells": [
  {
   "cell_type": "code",
   "execution_count": 3,
   "id": "62874b2d",
   "metadata": {},
   "outputs": [
    {
     "name": "stdout",
     "output_type": "stream",
     "text": [
      "positive sentiments\n",
      " ['He is good boy', 'He is an awesome player', 'She is the best', 'These burgers are really nice']\n",
      "negative sentiments\n",
      " ['Food is worst here', 'The pizza tastes awful']\n"
     ]
    }
   ],
   "source": [
    "#Question 1\n",
    "import numpy as np\n",
    "import pandas as pd \n",
    "positive=['good','best','awesome','nice']\n",
    "negative=['worst','awful']\n",
    "pos=[]\n",
    "neg=[]\n",
    "com=['He is good boy','Food is worst here','He is an awesome player','She is the best','The pizza tastes awful','These burgers are really nice']\n",
    "for j in range(0,1):    \n",
    "    for i in range(0,len(com)):\n",
    "        if positive[j] in com[i] or positive[j+1] in com[i] or positive[j+2] in com[i] or positive[j+3] in com[i]:\n",
    "            pos.append(com[i])\n",
    "        elif negative[j] in com[i] or negative[j+1] in com[i]:\n",
    "            neg.append(com[i])\n",
    "print('positive sentiments\\n',pos)\n",
    "print('negative sentiments\\n',neg)"
   ]
  },
  {
   "cell_type": "code",
   "execution_count": 4,
   "id": "7ec2e74c",
   "metadata": {},
   "outputs": [
    {
     "name": "stdout",
     "output_type": "stream",
     "text": [
      "['Maria', 'Hello', 'World', 'Marry', 'You']\n"
     ]
    }
   ],
   "source": [
    "#Question  6\n",
    "name=['santa Maria','Hello World','Marry christmas','tHank You']\n",
    "n=[]\n",
    "s=[]\n",
    "for i in name:\n",
    "  n.append(i.split(' ')[0])\n",
    "  n.append(i.split(' ')[1])\n",
    "for i in n:\n",
    "    if i[0].isupper():\n",
    "      s.append(i)\n",
    "print(s)"
   ]
  },
  {
   "cell_type": "code",
   "execution_count": 5,
   "id": "9c2f0eae",
   "metadata": {},
   "outputs": [
    {
     "name": "stdout",
     "output_type": "stream",
     "text": [
      "[9, 8.5, 8.0, 7.5, 7.0]\n"
     ]
    }
   ],
   "source": [
    "#Question 8\n",
    "a= [9,8,7,6,5]\n",
    "import itertools as it\n",
    "l=[]\n",
    "l = it.accumulate(list(enumerate(a)), lambda x,y: (y[0], (x[1]*(x[0]+1) + y[1])/(y[0]+1)))\n",
    "print(list(map(lambda x: x[1], l)))"
   ]
  },
  {
   "cell_type": "code",
   "execution_count": 6,
   "id": "e5a0ff65",
   "metadata": {},
   "outputs": [
    {
     "name": "stdout",
     "output_type": "stream",
     "text": [
      "['TRUE', 'FALSE', 'TRUE', 'TRUE', 'FALSE', 'FALSE']\n"
     ]
    }
   ],
   "source": [
    "#Question 9\n",
    "lsbool=['True','FALse','tRUe','tRue','False','faLse']\n",
    "ans=map(lambda x:x.upper(),lsbool)\n",
    "print(list(ans))"
   ]
  },
  {
   "cell_type": "code",
   "execution_count": 7,
   "id": "e6efd2d7",
   "metadata": {},
   "outputs": [
    {
     "name": "stdout",
     "output_type": "stream",
     "text": [
      "['hOw', 'ARe']\n"
     ]
    }
   ],
   "source": [
    "#Question 4\n",
    "ls=['hello','Dear','hOw','ARe','You']\n",
    "d=[]\n",
    "for i in range(0,len(ls)):\n",
    "    s=ls[i]\n",
    "    if s[1].isupper():\n",
    "        d.append(s)\n",
    "print(d)\n"
   ]
  },
  {
   "cell_type": "code",
   "execution_count": 8,
   "id": "069c0b89",
   "metadata": {},
   "outputs": [
    {
     "name": "stdout",
     "output_type": "stream",
     "text": [
      "2\n",
      "13.414213562373096\n"
     ]
    }
   ],
   "source": [
    "#Question 2\n",
    "def add(n):\n",
    "    d = {'Square': lambda a : a**2, \n",
    "         'Cube': lambda a : a**3, \n",
    "         'Squareroot': lambda a : a**(1/2), \n",
    "         }\n",
    "    sum = 0\n",
    "    for key in d.keys():\n",
    "        sum += d[key](n)\n",
    "    return sum\n",
    "\n",
    "x=int(input())\n",
    "print(add(x))"
   ]
  },
  {
   "cell_type": "code",
   "execution_count": 11,
   "id": "04c772c3",
   "metadata": {},
   "outputs": [
    {
     "name": "stdout",
     "output_type": "stream",
     "text": [
      "['1997', '2011', '1993', '2020']\n"
     ]
    }
   ],
   "source": [
    "#Question 10\n",
    "import datetime\n",
    "date = ['17-12-1997','22-04-2011','01-05-1993','19-06-2020']\n",
    "l=[]\n",
    "for i in date:\n",
    "    datem = datetime.datetime.strptime(i, \"%d-%m-%Y\")\n",
    "    l.append(str(datem.year))\n",
    "print(l)"
   ]
  },
  {
   "cell_type": "code",
   "execution_count": 12,
   "id": "df34bd37",
   "metadata": {},
   "outputs": [
    {
     "name": "stdout",
     "output_type": "stream",
     "text": [
      "Output: {8, 3}\n"
     ]
    }
   ],
   "source": [
    "#Question 7\n",
    "given_sets= [[1,2,3,4,8], [2,3,8,5,6], [8,4,5,3,7],[6,9,8,3],[9,12,3,7,6,8,4,6,21,1,6]]\n",
    "c=set(given_sets[0]).intersection(*given_sets)\n",
    "print(\"Output:\",c)"
   ]
  }
 ],
 "metadata": {
  "kernelspec": {
   "display_name": "Python 3 (ipykernel)",
   "language": "python",
   "name": "python3"
  },
  "language_info": {
   "codemirror_mode": {
    "name": "ipython",
    "version": 3
   },
   "file_extension": ".py",
   "mimetype": "text/x-python",
   "name": "python",
   "nbconvert_exporter": "python",
   "pygments_lexer": "ipython3",
   "version": "3.9.7"
  }
 },
 "nbformat": 4,
 "nbformat_minor": 5
}
